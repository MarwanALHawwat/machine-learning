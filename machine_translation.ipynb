{
  "cells": [
    {
      "cell_type": "markdown",
      "source": [
        "##Machine Translation Using a Seq2Seq Architecture\n",
        "© 2023, Zaka AI, Inc. All Rights Reserved.\n",
        "\n",
        "---\n",
        "The goal of this colab is to get you more familiar with the Seq2Seq models and their challenges. For this reason, you will be working on machine translation problem where we would have a sentence as input (in english), and the output is gonna be the translated sentence (in french). So just like what happens with Google Translate.\n"
      ],
      "metadata": {
        "id": "xiC75uo6u_Of"
      }
    },
    {
      "cell_type": "markdown",
      "source": [
        "**Just to give you a heads up:** We won't be having a model performing like Google translate, but at least we will have an idea about how Google Translate works and the challenges that exist with a translation problem.  "
      ],
      "metadata": {
        "id": "TeK4LPupvg_c"
      }
    },
    {
      "cell_type": "markdown",
      "source": [
        "## Importing Libraries"
      ],
      "metadata": {
        "id": "SBTvDTzBv293"
      }
    },
    {
      "cell_type": "markdown",
      "source": [
        "We start by importing numpy and pandas and then we can add the rest"
      ],
      "metadata": {
        "id": "4_j1ZzS3v6N3"
      }
    },
    {
      "cell_type": "code",
      "execution_count": 3,
      "metadata": {
        "id": "n0IARXAX1e1m"
      },
      "outputs": [],
      "source": [
        "import pandas as pd\n",
        "import numpy as np\n",
        "import matplotlib.pyplot as plt\n",
        "import string\n",
        "import random\n",
        "from keras.models import Model\n",
        "import nltk\n",
        "from nltk.corpus import stopwords\n",
        "from nltk import ne_chunk, pos_tag, word_tokenize\n",
        "from nltk.tree import Tree\n",
        "from nltk.tokenize import word_tokenize\n",
        "from nltk.stem import SnowballStemmer, WordNetLemmatizer\n",
        "from nltk.translate.bleu_score import corpus_bleu\n",
        "from keras.optimizers import Adam, Adadelta, Adamax\n",
        "from tensorflow.keras.preprocessing.text import Tokenizer\n",
        "from keras.models import Sequential\n",
        "from keras import regularizers\n",
        "from keras.callbacks import EarlyStopping, ReduceLROnPlateau\n",
        "from keras.layers import Embedding, Bidirectional, Dot, Softmax, Input, GRU, Dense, Dropout, Concatenate, Attention, LSTM, TimeDistributed, RepeatVector\n",
        "from tensorflow.keras.preprocessing.sequence import pad_sequences\n",
        "from tensorflow.keras.losses import SparseCategoricalCrossentropy\n",
        "from sklearn.model_selection import train_test_split"
      ]
    },
    {
      "cell_type": "code",
      "source": [
        "# Download the NLTK resources\n",
        "nltk.download('stopwords')\n",
        "nltk.download('punkt')\n",
        "nltk.download('wordnet')\n",
        "nltk.download('averaged_perceptron_tagger')\n",
        "nltk.download('maxent_ne_chunker')\n",
        "nltk.download('words')"
      ],
      "metadata": {
        "colab": {
          "base_uri": "https://localhost:8080/"
        },
        "id": "KiKCtU2QXidS",
        "outputId": "97a9fc94-6cbd-4c67-d13f-8fbe2df8c2c5"
      },
      "execution_count": 4,
      "outputs": [
        {
          "output_type": "stream",
          "name": "stderr",
          "text": [
            "[nltk_data] Downloading package stopwords to /root/nltk_data...\n",
            "[nltk_data]   Unzipping corpora/stopwords.zip.\n",
            "[nltk_data] Downloading package punkt to /root/nltk_data...\n",
            "[nltk_data]   Unzipping tokenizers/punkt.zip.\n",
            "[nltk_data] Downloading package wordnet to /root/nltk_data...\n",
            "[nltk_data] Downloading package averaged_perceptron_tagger to\n",
            "[nltk_data]     /root/nltk_data...\n",
            "[nltk_data]   Unzipping taggers/averaged_perceptron_tagger.zip.\n",
            "[nltk_data] Downloading package maxent_ne_chunker to\n",
            "[nltk_data]     /root/nltk_data...\n",
            "[nltk_data]   Unzipping chunkers/maxent_ne_chunker.zip.\n",
            "[nltk_data] Downloading package words to /root/nltk_data...\n",
            "[nltk_data]   Unzipping corpora/words.zip.\n"
          ]
        },
        {
          "output_type": "execute_result",
          "data": {
            "text/plain": [
              "True"
            ]
          },
          "metadata": {},
          "execution_count": 4
        }
      ]
    },
    {
      "cell_type": "markdown",
      "source": [
        "We clone the github repository where our data exists. Here is the github link: https://github.com/zaka-ai/machine_learning_certification/tree/main/Challenge%207 "
      ],
      "metadata": {
        "id": "vAcLqZ7uv-SJ"
      }
    },
    {
      "cell_type": "markdown",
      "source": [
        "## Getting the data"
      ],
      "metadata": {
        "id": "i3hLN42axOjn"
      }
    },
    {
      "cell_type": "code",
      "source": [
        "#Test Your Zaka\n",
        "# Clone the GitHub repository\n",
        "!git clone https://github.com/zaka-ai/machine_learning_certification.git"
      ],
      "metadata": {
        "id": "0-M7cFxTPpqy",
        "colab": {
          "base_uri": "https://localhost:8080/"
        },
        "outputId": "79e81fa5-7982-49bd-8905-2f342491cbc3"
      },
      "execution_count": 5,
      "outputs": [
        {
          "output_type": "stream",
          "name": "stdout",
          "text": [
            "Cloning into 'machine_learning_certification'...\n",
            "remote: Enumerating objects: 43, done.\u001b[K\n",
            "remote: Counting objects: 100% (43/43), done.\u001b[K\n",
            "remote: Compressing objects: 100% (39/39), done.\u001b[K\n",
            "remote: Total 43 (delta 10), reused 10 (delta 1), pack-reused 0\u001b[K\n",
            "Unpacking objects: 100% (43/43), 43.23 MiB | 9.59 MiB/s, done.\n"
          ]
        }
      ]
    },
    {
      "cell_type": "markdown",
      "source": [
        "We read the english sentences in a dataframe named \"english\", and the french sentences in a dataframe named \"french\""
      ],
      "metadata": {
        "id": "BaPr0N8cwGAv"
      }
    },
    {
      "cell_type": "code",
      "execution_count": 6,
      "metadata": {
        "id": "kFj8gkP01lGT"
      },
      "outputs": [],
      "source": [
        "#Test Your Zaka (English)\n",
        "english = pd.read_csv('machine_learning_certification/Challenge 7/en.csv', header=None)"
      ]
    },
    {
      "cell_type": "code",
      "execution_count": 7,
      "metadata": {
        "id": "P4A7ZKt32A7s"
      },
      "outputs": [],
      "source": [
        "#Test Your Zaka (French)\n",
        "french = pd.read_csv('machine_learning_certification/Challenge 7/fr.csv', header=None)"
      ]
    },
    {
      "cell_type": "markdown",
      "source": [
        "**How many sentences does each of the files contain?**"
      ],
      "metadata": {
        "id": "jr8OO1OhwSp4"
      }
    },
    {
      "cell_type": "code",
      "execution_count": 8,
      "metadata": {
        "id": "XhWJP-b02HKq",
        "colab": {
          "base_uri": "https://localhost:8080/"
        },
        "outputId": "e3575dfd-4e4d-45ae-975e-e9035a812865"
      },
      "outputs": [
        {
          "output_type": "stream",
          "name": "stdout",
          "text": [
            "Number of English sentences: 137860\n",
            "Number of French sentences: 137860\n"
          ]
        }
      ],
      "source": [
        "#Test Your Zaka\n",
        "en_sentences = len(english)\n",
        "fr_sentences = len(french)\n",
        "print(\"Number of English sentences:\", en_sentences)\n",
        "print(\"Number of French sentences:\", fr_sentences)"
      ]
    },
    {
      "cell_type": "markdown",
      "source": [
        "Now let us concatenate the 2 dataframes into one dataframe that we call **df** where one column has the english senetnces and the other has the french sentences"
      ],
      "metadata": {
        "id": "ITGJN5tIwkDO"
      }
    },
    {
      "cell_type": "code",
      "execution_count": 9,
      "metadata": {
        "id": "-ZXxahsB2njn"
      },
      "outputs": [],
      "source": [
        "#Test Your Zaka\n",
        "# Concatenate the English and French dataframes into a single dataframe called \"df\"\n",
        "df = pd.concat([english, french], axis=1)"
      ]
    },
    {
      "cell_type": "markdown",
      "source": [
        "Let's name the columns as **English** and **French** so that we access them easier."
      ],
      "metadata": {
        "id": "nAr_caXkwwE7"
      }
    },
    {
      "cell_type": "code",
      "execution_count": 10,
      "metadata": {
        "id": "eOHiQDXx3jFS"
      },
      "outputs": [],
      "source": [
        "#Test Your Zaka\n",
        "df.columns = ['English', 'French']"
      ]
    },
    {
      "cell_type": "markdown",
      "source": [
        "Pick a sentence and print it in both languages"
      ],
      "metadata": {
        "id": "4xc1TsEHw9yC"
      }
    },
    {
      "cell_type": "code",
      "execution_count": 11,
      "metadata": {
        "id": "QuRVWch23ujo",
        "colab": {
          "base_uri": "https://localhost:8080/"
        },
        "outputId": "48e023a9-e353-4aa2-8190-7ab567760f97"
      },
      "outputs": [
        {
          "output_type": "stream",
          "name": "stdout",
          "text": [
            "English Sentence: he plans to visit china in march .\n",
            "\n",
            "French Sentence: il envisage de se rendre en chine en mars .\n",
            "\n"
          ]
        }
      ],
      "source": [
        "#Test Your Zaka\n",
        "# Select a random sentence index\n",
        "idx = random.randint(0, len(df)-1)\n",
        "# Print the corresponding English and French sentences\n",
        "print('English Sentence: {}\\n'.format(df['English'][idx]))\n",
        "print('French Sentence: {}\\n'.format(df['French'][idx]))"
      ]
    },
    {
      "cell_type": "markdown",
      "source": [
        "##Cleaning Data"
      ],
      "metadata": {
        "id": "FQjXYP1txFCi"
      }
    },
    {
      "cell_type": "markdown",
      "source": [
        "The data that we have is almost clean as we can see, we just need to remove the punctuations inside of it."
      ],
      "metadata": {
        "id": "xgz6jIoVxHUF"
      }
    },
    {
      "cell_type": "code",
      "execution_count": 12,
      "metadata": {
        "id": "6YYOt5QftcFI"
      },
      "outputs": [],
      "source": [
        "#Test Your Zaka\n",
        "def remove_punctuations(sentence):\n",
        "    # Create a string with all the punctuations to remove\n",
        "    punctuations = string.punctuation\n",
        "    # Create a translation table to remove the punctuations from the sentence\n",
        "    translator = str.maketrans('', '', punctuations)\n",
        "    # Remove the punctuations from the sentence using the translation table\n",
        "    sentence = sentence.translate(translator)\n",
        "    return sentence\n",
        "df['english'] = df['English'].apply(remove_punctuations)\n",
        "df['french'] = df['French'].apply(remove_punctuations)"
      ]
    },
    {
      "cell_type": "markdown",
      "source": [
        "Make sure that the punctuation is removed by printing the example that you printed earlier."
      ],
      "metadata": {
        "id": "0C1qsC9LxZPb"
      }
    },
    {
      "cell_type": "code",
      "execution_count": 13,
      "metadata": {
        "id": "T80tiWxe84G7",
        "colab": {
          "base_uri": "https://localhost:8080/"
        },
        "outputId": "bd7609ae-00fe-4c1b-8b4b-47e8441abf23"
      },
      "outputs": [
        {
          "output_type": "stream",
          "name": "stdout",
          "text": [
            "Original English sentence:  he plans to visit china in march .\n",
            "\n",
            "Cleaned English sentence:  he plans to visit china in march \n",
            "\n",
            "Original French sentence:  il envisage de se rendre en chine en mars .\n",
            "\n",
            "Cleaned French sentence:  il envisage de se rendre en chine en mars  \n",
            "\n"
          ]
        }
      ],
      "source": [
        "#Test Your Zaka\n",
        "print(\"Original English sentence: \", df['English'][idx]+'\\n')\n",
        "print(\"Cleaned English sentence: \", remove_punctuations(df['English'][idx] +'\\n'))\n",
        "\n",
        "print(\"Original French sentence: \", df['French'][idx]+'\\n')\n",
        "print(\"Cleaned French sentence: \", remove_punctuations(df['French'][idx]),'\\n')"
      ]
    },
    {
      "cell_type": "markdown",
      "source": [
        "##Exploring the Data"
      ],
      "metadata": {
        "id": "ZuFNjoBAx4oN"
      }
    },
    {
      "cell_type": "markdown",
      "source": [
        "Add a column **ENG Length** to the dataset that shows how many words does a sentence contain, and do the same for french in a column called **FR Length**"
      ],
      "metadata": {
        "id": "ATfefzPExi2k"
      }
    },
    {
      "cell_type": "code",
      "execution_count": 14,
      "metadata": {
        "id": "Dakeo81s352S"
      },
      "outputs": [],
      "source": [
        "#Test Your Zaka\n",
        "# Add columns for ENG Length and FR Length\n",
        "df['ENG Length'] = df['english'].apply(lambda x: len(x.split()))"
      ]
    },
    {
      "cell_type": "code",
      "execution_count": 15,
      "metadata": {
        "id": "49keasjaPaaK"
      },
      "outputs": [],
      "source": [
        "#Test Your Zaka\n",
        "# Add columns for ENG Length and FR Length\n",
        "df['FR Length'] = df['french'].apply(lambda x: len(x.split()))"
      ]
    },
    {
      "cell_type": "markdown",
      "source": [
        "Visualize the distribution of the lengths of english sentences and french sentences."
      ],
      "metadata": {
        "id": "AjQLW0K5xwx1"
      }
    },
    {
      "cell_type": "code",
      "execution_count": 16,
      "metadata": {
        "id": "_q_UIMJ09L24",
        "colab": {
          "base_uri": "https://localhost:8080/",
          "height": 351
        },
        "outputId": "50fbaefd-91f7-4ca7-9f4d-133bd2160269"
      },
      "outputs": [
        {
          "output_type": "execute_result",
          "data": {
            "text/plain": [
              "Text(0, 0.5, 'Frequency')"
            ]
          },
          "metadata": {},
          "execution_count": 16
        },
        {
          "output_type": "display_data",
          "data": {
            "text/plain": [
              "<Figure size 864x360 with 1 Axes>"
            ],
            "image/png": "[encoded data removed]"
          },
          "metadata": {
            "needs_background": "light"
          }
        }
      ],
      "source": [
        "#Test Your Zaka\n",
        "# Create a figure with two subplots\n",
        "fig, axs = plt.subplots(1, figsize=(12, 5))\n",
        "\n",
        "# Plot the distribution of English sentence lengths\n",
        "axs.hist(df['ENG Length'], bins=50, color='blue')\n",
        "axs.set_xlabel('Length of English sentences')\n",
        "axs.set_ylabel('Frequency')"
      ]
    },
    {
      "cell_type": "code",
      "execution_count": 17,
      "metadata": {
        "id": "TSn4L7kW9R7g",
        "colab": {
          "base_uri": "https://localhost:8080/",
          "height": 336
        },
        "outputId": "1f88673b-9beb-44c0-f622-83020ca83209"
      },
      "outputs": [
        {
          "output_type": "display_data",
          "data": {
            "text/plain": [
              "<Figure size 864x360 with 1 Axes>"
            ],
            "image/png": "[encoded data removed]"
          },
          "metadata": {
            "needs_background": "light"
          }
        }
      ],
      "source": [
        "#Test Your Zaka\n",
        "fig, axs = plt.subplots(1, figsize=(12, 5))\n",
        "# Plot the distribution of French sentence lengths\n",
        "axs.hist(df['FR Length'], bins=50, color='red')\n",
        "axs.set_xlabel('Length of French sentences')\n",
        "axs.set_ylabel('Frequency')\n",
        "# Show the plot\n",
        "plt.show()"
      ]
    },
    {
      "cell_type": "markdown",
      "source": [
        "Get the maximum length of an english sentence and the maximum length of a french sentence. "
      ],
      "metadata": {
        "id": "BDXb2d9ix9DV"
      }
    },
    {
      "cell_type": "code",
      "execution_count": 18,
      "metadata": {
        "id": "BpnBB04U_lHd",
        "colab": {
          "base_uri": "https://localhost:8080/"
        },
        "outputId": "03b8d13b-408d-4824-ea00-1b74e05c8ee2"
      },
      "outputs": [
        {
          "output_type": "stream",
          "name": "stdout",
          "text": [
            "15 21\n"
          ]
        }
      ],
      "source": [
        "#Test Your Zaka\n",
        "max_eng_length = df['ENG Length'].max()\n",
        "max_fr_length = df['FR Length'].max()\n",
        "print(max_eng_length, max_fr_length)"
      ]
    },
    {
      "cell_type": "code",
      "source": [
        "# Define the stop words to be removed\n",
        "stop_words = set(stopwords.words('english'))\n",
        "# Define the stop words to be removed\n",
        "stop_words = set(stopwords.words('french'))\n",
        "def apply_lemmatization(sentence):\n",
        "    # Tokenize the sentence into wordsa\n",
        "    words = word_tokenize(sentence)\n",
        "    # Initialize the WordNetLemmatizer for English language\n",
        "    lemmatizer = WordNetLemmatizer()\n",
        "    # Apply lemmatization on each word in the sentence\n",
        "    lemmatized_words = [lemmatizer.lemmatize(word) for word in words]\n",
        "    # Join the lemmatized words into a sentence\n",
        "    lemmatized_sentence = \" \".join(lemmatized_words)\n",
        "    return lemmatized_sentence\n",
        "    \n",
        "df['english'] = df['english'].apply(apply_lemmatization)\n",
        "df['french'] = df['french'].apply(apply_lemmatization)\n"
      ],
      "metadata": {
        "id": "rAnZi0sU1Pd2"
      },
      "execution_count": 19,
      "outputs": []
    },
    {
      "cell_type": "markdown",
      "source": [
        "##Preprocessing the Data"
      ],
      "metadata": {
        "id": "s4s-spsRyGJv"
      }
    },
    {
      "cell_type": "markdown",
      "source": [
        "In order for the data to be fed to the model, it has to be tokenized and padded. "
      ],
      "metadata": {
        "id": "N0ZmIT2GyJMU"
      }
    },
    {
      "cell_type": "markdown",
      "source": [
        "####Tokenization"
      ],
      "metadata": {
        "id": "R0r9z-eErm9H"
      }
    },
    {
      "cell_type": "markdown",
      "source": [
        "**To tokenize english and french sentences, we can use only one tokenizer. True or False?**"
      ],
      "metadata": {
        "id": "X5L_zkhfyQuX"
      }
    },
    {
      "cell_type": "markdown",
      "source": [
        "[False]"
      ],
      "metadata": {
        "id": "1Z0ZcNOeyauD"
      }
    },
    {
      "cell_type": "markdown",
      "source": [
        "Tokenize the sentences that we have."
      ],
      "metadata": {
        "id": "814mKDFiymcY"
      }
    },
    {
      "cell_type": "code",
      "execution_count": 20,
      "metadata": {
        "id": "aiXlciqFuQzW"
      },
      "outputs": [],
      "source": [
        "#Test Your Zaka\n",
        "# Tokenize the English sentences\n",
        "eng_tokenizer = Tokenizer()\n",
        "eng_tokenizer.fit_on_texts(df['english'])\n",
        "eng_sequences = eng_tokenizer.texts_to_sequences(df['english'])\n",
        "\n",
        "# Tokenize the French sentences\n",
        "fr_tokenizer = Tokenizer()\n",
        "fr_tokenizer.fit_on_texts(df['french'])\n",
        "fr_sequences = fr_tokenizer.texts_to_sequences(df['french'])\n",
        "# Find the number of unique words in the English sentences\n",
        "num_eng_words = len(eng_tokenizer.word_index)+1\n",
        "num_fr_words = len(fr_tokenizer.word_index)+1"
      ]
    },
    {
      "cell_type": "markdown",
      "source": [
        "**How many unique words do we have in english and in french?**"
      ],
      "metadata": {
        "id": "aUN01jDXys9B"
      }
    },
    {
      "cell_type": "code",
      "execution_count": 21,
      "metadata": {
        "id": "1WahkdzKvIlO",
        "colab": {
          "base_uri": "https://localhost:8080/"
        },
        "outputId": "a3932052-1320-4522-fc51-ced353abbbd9"
      },
      "outputs": [
        {
          "output_type": "stream",
          "name": "stdout",
          "text": [
            "Number of unique words in English sentences: 171\n",
            "Number of unique words in French sentences: 331\n"
          ]
        }
      ],
      "source": [
        "#Test Your Zaka\n",
        "# Find the number of unique words in the English sentences\n",
        "num_eng_words = len(eng_tokenizer.word_index)+1\n",
        "print(\"Number of unique words in English sentences:\", num_eng_words)\n",
        "\n",
        "# Find the number of unique words in the French sentences\n",
        "num_fr_words = len(fr_tokenizer.word_index)+1\n",
        "print(\"Number of unique words in French sentences:\", num_fr_words)"
      ]
    },
    {
      "cell_type": "markdown",
      "source": [
        "####Padding"
      ],
      "metadata": {
        "id": "g0C2RJjArtJd"
      }
    },
    {
      "cell_type": "markdown",
      "source": [
        "**What should be the length of the sequences that we have after padding?**"
      ],
      "metadata": {
        "id": "vXdTXMo5y8oB"
      }
    },
    {
      "cell_type": "markdown",
      "source": [
        "the length of the sequences after padding should be for english 15 and 21 for french we will choose 21 as threshold to be the fixed length to work with"
      ],
      "metadata": {
        "id": "9wtHQsgXzImq"
      }
    },
    {
      "cell_type": "markdown",
      "source": [
        "Perform padding on the sequences that we have."
      ],
      "metadata": {
        "id": "hRXayRzVzQD4"
      }
    },
    {
      "cell_type": "code",
      "execution_count": 22,
      "metadata": {
        "id": "oNdO9EZrxvmN"
      },
      "outputs": [],
      "source": [
        "#Test Your Zaka\n",
        "fixed_length = 21\n",
        "# Perform padding on English sequences\n",
        "eng_padded_sequences = pad_sequences(eng_sequences, maxlen=fixed_length , padding='post')\n",
        "# Perform padding on French sequences\n",
        "fr_padded_sequences = pad_sequences(fr_sequences, maxlen=fixed_length , padding='post')"
      ]
    },
    {
      "cell_type": "code",
      "source": [
        "# Split the dataset into training and test sets (80% training, 20% test)\n",
        "X_train, X_test, y_train, y_test = train_test_split(eng_padded_sequences, fr_padded_sequences, test_size=0.2, random_state=42)\n",
        "\n",
        "# Split the training set into training and validation sets (90% training, 10% validation)\n",
        "X_train, X_val, y_train, y_val = train_test_split(X_train, y_train, test_size=0.1, random_state=42)"
      ],
      "metadata": {
        "id": "0Kr42kKKcQkw"
      },
      "execution_count": 23,
      "outputs": []
    },
    {
      "cell_type": "markdown",
      "source": [
        "##Modeling"
      ],
      "metadata": {
        "id": "JxvvVU3ezUHR"
      }
    },
    {
      "cell_type": "markdown",
      "source": [
        "After preprrocessing the data, we can build our model. Start by building a baseline architecture relying on one directional RNNs, LSTMs, or GRUs. It will be good to lookup how to build Seq2Seq models, there are some new layers that will help you like RepeatVector and TimeDistributed."
      ],
      "metadata": {
        "id": "FEKujJUEzVux"
      }
    },
    {
      "cell_type": "code",
      "execution_count": 24,
      "metadata": {
        "id": "9oydzHkr3zDC",
        "colab": {
          "base_uri": "https://localhost:8080/"
        },
        "outputId": "92205993-278f-409c-ba15-798f10b0b597"
      },
      "outputs": [
        {
          "output_type": "stream",
          "name": "stdout",
          "text": [
            "Model: \"sequential\"\n",
            "_________________________________________________________________\n",
            " Layer (type)                Output Shape              Param #   \n",
            "=================================================================\n",
            " embedding (Embedding)       (None, 21, 64)            10944     \n",
            "                                                                 \n",
            " lstm (LSTM)                 (None, 21, 512)           1181696   \n",
            "                                                                 \n",
            " dense (Dense)               (None, 21, 256)           131328    \n",
            "                                                                 \n",
            " lstm_1 (LSTM)               (None, 21, 256)           525312    \n",
            "                                                                 \n",
            " lstm_2 (LSTM)               (None, 21, 128)           197120    \n",
            "                                                                 \n",
            " dense_1 (Dense)             (None, 21, 256)           33024     \n",
            "                                                                 \n",
            " lstm_3 (LSTM)               (None, 21, 512)           1574912   \n",
            "                                                                 \n",
            " time_distributed (TimeDistr  (None, 21, 331)          169803    \n",
            " ibuted)                                                         \n",
            "                                                                 \n",
            "=================================================================\n",
            "Total params: 3,824,139\n",
            "Trainable params: 3,824,139\n",
            "Non-trainable params: 0\n",
            "_________________________________________________________________\n"
          ]
        }
      ],
      "source": [
        "#Test Your Zaka\n",
        "# Define the model architecture\n",
        "model = Sequential()\n",
        "model.add(Embedding(num_eng_words, 64, input_length=fixed_length))\n",
        "model.add(LSTM(512, return_sequences=True))\n",
        "model.add(Dense(256))\n",
        "model.add(LSTM(256, return_sequences=True))\n",
        "model.add(LSTM(128, return_sequences=True))\n",
        "model.add(Dense(256, activation='softmax'))\n",
        "model.add(LSTM(512, return_sequences=True))\n",
        "model.add(TimeDistributed(Dense(num_fr_words, activation='softmax')))\n",
        "\n",
        "# Add early stopping\n",
        "early_stop = EarlyStopping(monitor='val_loss', patience=5, mode='min', restore_best_weights=True)\n",
        "\n",
        "# Print the model summary\n",
        "model.summary()\n"
      ]
    },
    {
      "cell_type": "markdown",
      "source": [
        "Compile and train the model. \n",
        "**FYI:** While specifying the architecture of your model and the number of epochs for training, keeep in your mind that your model might take A LOT of time to train."
      ],
      "metadata": {
        "id": "aP10HtNBzpT0"
      }
    },
    {
      "cell_type": "code",
      "execution_count": 25,
      "metadata": {
        "id": "lWw4nBNIFp9D",
        "colab": {
          "base_uri": "https://localhost:8080/"
        },
        "outputId": "26456fbc-7344-419b-e9b3-613b0cf96fb1"
      },
      "outputs": [
        {
          "output_type": "stream",
          "name": "stdout",
          "text": [
            "Epoch 1/50\n",
            "1551/1551 [==============================] - 55s 27ms/step - loss: 1.4906 - accuracy: 0.6174 - val_loss: 0.9766 - val_accuracy: 0.7029\n",
            "Epoch 2/50\n",
            "1551/1551 [==============================] - 31s 20ms/step - loss: 0.8546 - accuracy: 0.7309 - val_loss: 0.7291 - val_accuracy: 0.7662\n",
            "Epoch 3/50\n",
            "1551/1551 [==============================] - 32s 21ms/step - loss: 0.6418 - accuracy: 0.7915 - val_loss: 0.5478 - val_accuracy: 0.8192\n",
            "Epoch 4/50\n",
            "1551/1551 [==============================] - 38s 25ms/step - loss: 0.4830 - accuracy: 0.8442 - val_loss: 0.4099 - val_accuracy: 0.8699\n",
            "Epoch 5/50\n",
            "1551/1551 [==============================] - 33s 21ms/step - loss: 0.3632 - accuracy: 0.8859 - val_loss: 0.3284 - val_accuracy: 0.8955\n",
            "Epoch 6/50\n",
            "1551/1551 [==============================] - 32s 21ms/step - loss: 0.3066 - accuracy: 0.9013 - val_loss: 0.2956 - val_accuracy: 0.9051\n",
            "Epoch 7/50\n",
            "1551/1551 [==============================] - 32s 20ms/step - loss: 0.2757 - accuracy: 0.9090 - val_loss: 0.2667 - val_accuracy: 0.9122\n",
            "Epoch 8/50\n",
            "1551/1551 [==============================] - 33s 21ms/step - loss: 0.2583 - accuracy: 0.9131 - val_loss: 0.2591 - val_accuracy: 0.9137\n",
            "Epoch 9/50\n",
            "1551/1551 [==============================] - 33s 21ms/step - loss: 0.2466 - accuracy: 0.9160 - val_loss: 0.2474 - val_accuracy: 0.9166\n",
            "Epoch 10/50\n",
            "1551/1551 [==============================] - 35s 22ms/step - loss: 0.2370 - accuracy: 0.9184 - val_loss: 0.2587 - val_accuracy: 0.9124\n",
            "Epoch 11/50\n",
            "1551/1551 [==============================] - 34s 22ms/step - loss: 0.2290 - accuracy: 0.9205 - val_loss: 0.2357 - val_accuracy: 0.9193\n",
            "Epoch 12/50\n",
            "1551/1551 [==============================] - 31s 20ms/step - loss: 0.2237 - accuracy: 0.9221 - val_loss: 0.2292 - val_accuracy: 0.9218\n",
            "Epoch 13/50\n",
            "1551/1551 [==============================] - 32s 21ms/step - loss: 0.2191 - accuracy: 0.9230 - val_loss: 0.2278 - val_accuracy: 0.9222\n",
            "Epoch 14/50\n",
            "1551/1551 [==============================] - 31s 20ms/step - loss: 0.2123 - accuracy: 0.9248 - val_loss: 0.2278 - val_accuracy: 0.9215\n",
            "Epoch 15/50\n",
            "1551/1551 [==============================] - 31s 20ms/step - loss: 0.2090 - accuracy: 0.9255 - val_loss: 0.2262 - val_accuracy: 0.9222\n",
            "Epoch 16/50\n",
            "1551/1551 [==============================] - 31s 20ms/step - loss: 0.2118 - accuracy: 0.9248 - val_loss: 0.2223 - val_accuracy: 0.9227\n",
            "Epoch 17/50\n",
            "1551/1551 [==============================] - 31s 20ms/step - loss: 0.2010 - accuracy: 0.9278 - val_loss: 0.2220 - val_accuracy: 0.9243\n",
            "Epoch 18/50\n",
            "1551/1551 [==============================] - 32s 20ms/step - loss: 0.2023 - accuracy: 0.9272 - val_loss: 0.2220 - val_accuracy: 0.9234\n",
            "Epoch 19/50\n",
            "1551/1551 [==============================] - 32s 21ms/step - loss: 0.1988 - accuracy: 0.9282 - val_loss: 0.2172 - val_accuracy: 0.9250\n",
            "Epoch 20/50\n",
            "1551/1551 [==============================] - 31s 20ms/step - loss: 0.1981 - accuracy: 0.9284 - val_loss: 0.2193 - val_accuracy: 0.9244\n",
            "Epoch 21/50\n",
            "1551/1551 [==============================] - 31s 20ms/step - loss: 0.1954 - accuracy: 0.9290 - val_loss: 0.2255 - val_accuracy: 0.9224\n",
            "Epoch 22/50\n",
            "1551/1551 [==============================] - 32s 21ms/step - loss: 0.1938 - accuracy: 0.9295 - val_loss: 0.2189 - val_accuracy: 0.9249\n",
            "Epoch 23/50\n",
            "1551/1551 [==============================] - 31s 20ms/step - loss: 0.1921 - accuracy: 0.9300 - val_loss: 0.2271 - val_accuracy: 0.9226\n",
            "Epoch 24/50\n",
            "1551/1551 [==============================] - 31s 20ms/step - loss: 0.1902 - accuracy: 0.9304 - val_loss: 0.2195 - val_accuracy: 0.9253\n"
          ]
        }
      ],
      "source": [
        "#Test Your Zaka\n",
        "# Compile the model\n",
        "model.compile(loss='sparse_categorical_crossentropy', optimizer='adam', metrics=['accuracy'])\n",
        "# Train the model\n",
        "history = model.fit(X_train, y_train, validation_data=(X_val, y_val), epochs=50, batch_size=64, callbacks=[early_stop])\n"
      ]
    },
    {
      "cell_type": "markdown",
      "source": [
        "Define a function that gets an input sentence in english and gives the output sentence in the french language."
      ],
      "metadata": {
        "id": "9UoEcxyJztiQ"
      }
    },
    {
      "cell_type": "code",
      "source": [
        "#Test Your Zaka\n",
        "def translate_to_french(input_sentence):\n",
        "    # Convert the input sentence to a sequence of integers using the English tokenizer\n",
        "    input_seq = eng_tokenizer.texts_to_sequences([input_sentence])[0]\n",
        "    # Pad the input sequence\n",
        "    input_padded = pad_sequences([input_seq], maxlen=fixed_length, padding='post')\n",
        "    # Use the trained model to generate the output sequence\n",
        "    output_seq = model.predict(input_padded)[0]\n",
        "    # Convert the output sequence to a sequence of integers\n",
        "    output_seq = np.argmax(output_seq, axis=-1)\n",
        "    # Convert the output sequence to a sentence using the French tokenizer\n",
        "    output_sentence = fr_tokenizer.sequences_to_texts([output_seq])[0]\n",
        "    # Remove the padding token from the output sentence\n",
        "    output_sentence = output_sentence.replace('<pad>', '').strip()\n",
        "    return output_sentence"
      ],
      "metadata": {
        "id": "fUU_RdCxYpM6"
      },
      "execution_count": 26,
      "outputs": []
    },
    {
      "cell_type": "markdown",
      "source": [
        "Test the following sentence"
      ],
      "metadata": {
        "id": "XUQIcAjWz3bt"
      }
    },
    {
      "cell_type": "code",
      "execution_count": 27,
      "metadata": {
        "id": "fDmNqnZIQMko",
        "colab": {
          "base_uri": "https://localhost:8080/"
        },
        "outputId": "9c7acf32-90a3-473a-9bcc-244190d09ac7"
      },
      "outputs": [
        {
          "output_type": "stream",
          "name": "stdout",
          "text": [
            "1/1 [==============================] - 1s 1s/step\n",
            "she is driving the truck : \n",
            "elle conduit cette grande camion brillant\n"
          ]
        }
      ],
      "source": [
        "input = \"she is driving the truck\"\n",
        "\n",
        "#Test Your Zaka\n",
        "predicted_french_sentence = translate_to_french(input)\n",
        "print(input + ' : \\n' +predicted_french_sentence)  "
      ]
    },
    {
      "cell_type": "markdown",
      "source": [
        "Try to improve your model by modifying the architecture to take into account bidirectionality which is very useful in Machine Translation. Create a new model called model2"
      ],
      "metadata": {
        "id": "wdI2XhaBz6CN"
      }
    },
    {
      "cell_type": "code",
      "execution_count": 43,
      "metadata": {
        "id": "Ch28BLsbGnCn",
        "colab": {
          "base_uri": "https://localhost:8080/"
        },
        "outputId": "c2aec4a2-68e0-4301-91ba-cbeb73cc82de"
      },
      "outputs": [
        {
          "output_type": "stream",
          "name": "stdout",
          "text": [
            "Model: \"sequential_5\"\n",
            "_________________________________________________________________\n",
            " Layer (type)                Output Shape              Param #   \n",
            "=================================================================\n",
            " embedding_5 (Embedding)     (None, 21, 64)            10944     \n",
            "                                                                 \n",
            " bidirectional_16 (Bidirecti  (None, 21, 1024)         2363392   \n",
            " onal)                                                           \n",
            "                                                                 \n",
            " bidirectional_17 (Bidirecti  (None, 21, 512)          2623488   \n",
            " onal)                                                           \n",
            "                                                                 \n",
            " bidirectional_18 (Bidirecti  (None, 21, 256)          656384    \n",
            " onal)                                                           \n",
            "                                                                 \n",
            " bidirectional_19 (Bidirecti  (None, 21, 1024)         3149824   \n",
            " onal)                                                           \n",
            "                                                                 \n",
            " time_distributed_4 (TimeDis  (None, 21, 331)          339275    \n",
            " tributed)                                                       \n",
            "                                                                 \n",
            "=================================================================\n",
            "Total params: 9,143,307\n",
            "Trainable params: 9,143,307\n",
            "Non-trainable params: 0\n",
            "_________________________________________________________________\n"
          ]
        }
      ],
      "source": [
        "#Test Your Zaka\n",
        "# Define the model architecture\n",
        "model2 = Sequential()\n",
        "model2.add(Embedding(num_eng_words, 64, input_length=fixed_length))\n",
        "model2.add(Bidirectional(LSTM(512, return_sequences=True)))\n",
        "model2.add(Bidirectional(LSTM(256, return_sequences=True)))\n",
        "model2.add(Bidirectional(LSTM(128, return_sequences=True)))\n",
        "model2.add(Bidirectional(LSTM(512, return_sequences=True)))\n",
        "model2.add(TimeDistributed(Dense(num_fr_words, activation='softmax')))\n",
        "\n",
        "# Add early stopping\n",
        "early_stop = EarlyStopping(monitor='val_loss', patience=5, mode='min', restore_best_weights=True)\n",
        "\n",
        "# Print the model summary\n",
        "model2.summary()\n"
      ]
    },
    {
      "cell_type": "markdown",
      "source": [
        "compile and train your new model."
      ],
      "metadata": {
        "id": "EHDvxt9L0C21"
      }
    },
    {
      "cell_type": "code",
      "execution_count": 44,
      "metadata": {
        "id": "iK1QvVmaTWI2",
        "colab": {
          "base_uri": "https://localhost:8080/"
        },
        "outputId": "83f0500c-13dc-4e34-ac56-de165529e8d9"
      },
      "outputs": [
        {
          "output_type": "stream",
          "name": "stdout",
          "text": [
            "Epoch 1/50\n",
            "776/776 [==============================] - 71s 71ms/step - loss: 1.3679 - accuracy: 0.6474 - val_loss: 0.7763 - val_accuracy: 0.7653\n",
            "Epoch 2/50\n",
            "776/776 [==============================] - 49s 63ms/step - loss: 0.4889 - accuracy: 0.8488 - val_loss: 0.2685 - val_accuracy: 0.9137\n",
            "Epoch 3/50\n",
            "776/776 [==============================] - 49s 63ms/step - loss: 0.2096 - accuracy: 0.9320 - val_loss: 0.1728 - val_accuracy: 0.9417\n",
            "Epoch 4/50\n",
            "776/776 [==============================] - 49s 63ms/step - loss: 0.1362 - accuracy: 0.9555 - val_loss: 0.1153 - val_accuracy: 0.9611\n",
            "Epoch 5/50\n",
            "776/776 [==============================] - 49s 64ms/step - loss: 0.1060 - accuracy: 0.9653 - val_loss: 0.0970 - val_accuracy: 0.9678\n",
            "Epoch 6/50\n",
            "776/776 [==============================] - 50s 64ms/step - loss: 0.0830 - accuracy: 0.9728 - val_loss: 0.0827 - val_accuracy: 0.9729\n",
            "Epoch 7/50\n",
            "776/776 [==============================] - 50s 64ms/step - loss: 0.0696 - accuracy: 0.9771 - val_loss: 0.0766 - val_accuracy: 0.9759\n",
            "Epoch 8/50\n",
            "776/776 [==============================] - 49s 63ms/step - loss: 0.0623 - accuracy: 0.9794 - val_loss: 0.0746 - val_accuracy: 0.9760\n",
            "Epoch 9/50\n",
            "776/776 [==============================] - 49s 63ms/step - loss: 0.0529 - accuracy: 0.9824 - val_loss: 0.0622 - val_accuracy: 0.9799\n",
            "Epoch 10/50\n",
            "776/776 [==============================] - 49s 63ms/step - loss: 0.0484 - accuracy: 0.9842 - val_loss: 0.0826 - val_accuracy: 0.9733\n",
            "Epoch 11/50\n",
            "776/776 [==============================] - 49s 63ms/step - loss: 0.0417 - accuracy: 0.9862 - val_loss: 0.0625 - val_accuracy: 0.9811\n",
            "Epoch 12/50\n",
            "776/776 [==============================] - 49s 63ms/step - loss: 0.0340 - accuracy: 0.9887 - val_loss: 0.0549 - val_accuracy: 0.9832\n",
            "Epoch 13/50\n",
            "776/776 [==============================] - 49s 64ms/step - loss: 0.0354 - accuracy: 0.9883 - val_loss: 0.0525 - val_accuracy: 0.9838\n",
            "Epoch 14/50\n",
            "776/776 [==============================] - 49s 63ms/step - loss: 0.0300 - accuracy: 0.9901 - val_loss: 0.0635 - val_accuracy: 0.9819\n",
            "Epoch 15/50\n",
            "776/776 [==============================] - 49s 63ms/step - loss: 0.0281 - accuracy: 0.9908 - val_loss: 0.0603 - val_accuracy: 0.9815\n",
            "Epoch 16/50\n",
            "776/776 [==============================] - 49s 64ms/step - loss: 0.0268 - accuracy: 0.9912 - val_loss: 0.0543 - val_accuracy: 0.9846\n",
            "Epoch 17/50\n",
            "776/776 [==============================] - 49s 64ms/step - loss: 0.0197 - accuracy: 0.9935 - val_loss: 0.0652 - val_accuracy: 0.9821\n",
            "Epoch 18/50\n",
            "776/776 [==============================] - 49s 63ms/step - loss: 0.0212 - accuracy: 0.9931 - val_loss: 0.0489 - val_accuracy: 0.9864\n",
            "Epoch 19/50\n",
            "776/776 [==============================] - 49s 63ms/step - loss: 0.0176 - accuracy: 0.9943 - val_loss: 0.0562 - val_accuracy: 0.9852\n",
            "Epoch 20/50\n",
            "776/776 [==============================] - 49s 63ms/step - loss: 0.0203 - accuracy: 0.9935 - val_loss: 0.0562 - val_accuracy: 0.9854\n",
            "Epoch 21/50\n",
            "776/776 [==============================] - 49s 63ms/step - loss: 0.0143 - accuracy: 0.9954 - val_loss: 0.0601 - val_accuracy: 0.9851\n",
            "Epoch 22/50\n",
            "776/776 [==============================] - 49s 63ms/step - loss: 0.0179 - accuracy: 0.9944 - val_loss: 0.0679 - val_accuracy: 0.9830\n",
            "Epoch 23/50\n",
            "776/776 [==============================] - 49s 63ms/step - loss: 0.0170 - accuracy: 0.9946 - val_loss: 0.0523 - val_accuracy: 0.9873\n"
          ]
        }
      ],
      "source": [
        "#Test Your Zaka\n",
        "# Compile the model\n",
        "model2.compile(optimizer='adam', loss='sparse_categorical_crossentropy', metrics=['accuracy'])\n",
        "# Train the model\n",
        "history = model2.fit(X_train, y_train, validation_data=(X_val, y_val), epochs=50, batch_size=128, callbacks=[early_stop])\n"
      ]
    },
    {
      "cell_type": "markdown",
      "source": [
        "Define a new function that relies on your new model to make predictions."
      ],
      "metadata": {
        "id": "CkpOI2JI0GBx"
      }
    },
    {
      "cell_type": "code",
      "execution_count": 47,
      "metadata": {
        "id": "Gulu8OiXTbae"
      },
      "outputs": [],
      "source": [
        "#Test Your Zaka\n",
        "def translate_to_french_1(input_sentence):\n",
        "    # Convert the input sentence to a sequence of integers using the English tokenizer\n",
        "    input_seq = eng_tokenizer.texts_to_sequences([input_sentence])[0]\n",
        "    # Pad the input sequence\n",
        "    input_padded = pad_sequences([input_seq], maxlen=fixed_length, padding='post')\n",
        "    # Use the trained model to generate the output sequence\n",
        "    output_seq = model2.predict(input_padded)[0]\n",
        "    # Convert the output sequence to a sequence of integers\n",
        "    output_seq = np.argmax(output_seq, axis=-1)\n",
        "    # Convert the output sequence to a sentence using the French tokenizer\n",
        "    output_sentence = fr_tokenizer.sequences_to_texts([output_seq])[0]\n",
        "    # Remove the padding token and any other unwanted characters from the output sentence\n",
        "    output_sentence = output_sentence.replace('<pad>', '').replace(' <eos>', '').strip()\n",
        "    return output_sentence"
      ]
    },
    {
      "cell_type": "code",
      "source": [
        "input = \"she is driving the truck\"\n",
        "\n",
        "#Test Your Zaka\n",
        "predicted_french_sentence = translate_to_french_1(input)\n",
        "print(input + ' : \\n' +predicted_french_sentence)  "
      ],
      "metadata": {
        "id": "8CO0pO6-UAeE",
        "colab": {
          "base_uri": "https://localhost:8080/"
        },
        "outputId": "cd01bd01-ef38-4a12-9880-69311a7830a1"
      },
      "execution_count": 48,
      "outputs": [
        {
          "output_type": "stream",
          "name": "stdout",
          "text": [
            "1/1 [==============================] - 0s 25ms/step\n",
            "she is driving the truck : \n",
            "elle conduit le camion bleu rouillé\n"
          ]
        }
      ]
    },
    {
      "cell_type": "code",
      "source": [
        "from nltk.translate.bleu_score import sentence_bleu\n",
        "def calculate_bleu_score(input_sentence, target_sentence):\n",
        "    # Convert the input sentence to a sequence of integers using the English tokenizer\n",
        "    input_seq = eng_tokenizer.texts_to_sequences([input_sentence])[0]\n",
        "    # Pad the input sequence\n",
        "    input_padded = pad_sequences([input_seq], maxlen=fixed_length, padding='post')\n",
        "    # Use the trained model to generate the output sequence\n",
        "    output_seq = model2.predict(input_padded)[0]\n",
        "    # Convert the output sequence to a sequence of integers\n",
        "    output_seq = np.argmax(output_seq, axis=-1)\n",
        "    # Convert the output sequence to a sentence using the French tokenizer\n",
        "    output_sentence = fr_tokenizer.sequences_to_texts([output_seq])[0]\n",
        "    # Remove the padding token and any other unwanted characters from the output sentence\n",
        "    output_sentence = output_sentence.replace('<pad>', '').replace(' <eos>', '').strip()\n",
        "\n",
        "    # Calculate the BLEU score between the predicted sentence and the target sentence\n",
        "    bleu_score = sentence_bleu([target_sentence.split()], output_sentence.split())\n",
        "    return bleu_score\n",
        "\n",
        "input = \"she is driving the truck\"\n",
        "target_french_sentence = \"elle conduit le camion\"\n",
        "\n",
        "predicted_french_sentence = translate_to_french_1(input)\n",
        "bleu_score = calculate_bleu_score(input, target_french_sentence)\n",
        "\n",
        "print(\"Input sentence: \" + input)\n",
        "print(\"Target French sentence: \" + target_french_sentence)\n",
        "print(\"Predicted French sentence: \" + predicted_french_sentence)\n",
        "print(\"BLEU score: \", bleu_score)"
      ],
      "metadata": {
        "colab": {
          "base_uri": "https://localhost:8080/"
        },
        "id": "HYJ5r1GyjCf9",
        "outputId": "03660b46-e361-471e-f13f-7f1228f1bb02"
      },
      "execution_count": 49,
      "outputs": [
        {
          "output_type": "stream",
          "name": "stdout",
          "text": [
            "1/1 [==============================] - 0s 24ms/step\n",
            "1/1 [==============================] - 0s 24ms/step\n",
            "Input sentence: she is driving the truck\n",
            "Target French sentence: elle conduit le camion\n",
            "Predicted French sentence: elle conduit le camion bleu rouillé\n",
            "BLEU score:  0.5081327481546147\n"
          ]
        }
      ]
    },
    {
      "cell_type": "markdown",
      "source": [
        "**What is another adjustment in terms of architecture that you might be able to do to improve your model?**"
      ],
      "metadata": {
        "id": "YGeXrjqbZen7"
      }
    },
    {
      "cell_type": "markdown",
      "source": [
        "Addition of attention processes might be a potential modification to further enhance the model's performance The model can generate the output sequence while focusing on the portions of the input sequence with the use of attention processes which can improve the quality of the translation."
      ],
      "metadata": {
        "id": "bekjOkjbZlBf"
      }
    },
    {
      "cell_type": "markdown",
      "source": [
        "**What are some additional ways that we can do to improve the performance of our model?**"
      ],
      "metadata": {
        "id": "pnIN2lD2tn05"
      }
    },
    {
      "cell_type": "markdown",
      "source": [
        "try out different combinations of the hyperparameters learning rate, batch size, and number of epochs.\n",
        "Use pre-trained word embeddings to assist the model better\n",
        "To improve the diversity of the data and avoid overfitting we can use data augmentation techniques such random word deletion, insertion, or replacement in the input phrases."
      ],
      "metadata": {
        "id": "s7_MCCbQt3uq"
      }
    },
    {
      "cell_type": "code",
      "source": [],
      "metadata": {
        "id": "YFxWzGrkw89I"
      },
      "execution_count": null,
      "outputs": []
    }
  ],
  "metadata": {
    "colab": {
      "provenance": []
    },
    "kernelspec": {
      "display_name": "Python 3",
      "name": "python3"
    },
    "language_info": {
      "name": "python"
    },
    "accelerator": "GPU",
    "gpuClass": "standard"
  },
  "nbformat": 4,
  "nbformat_minor": 0
}